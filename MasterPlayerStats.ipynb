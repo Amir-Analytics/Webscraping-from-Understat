{
 "cells": [
  {
   "cell_type": "code",
   "execution_count": 4,
   "id": "7f8204f5",
   "metadata": {},
   "outputs": [],
   "source": [
    "import csv\n",
    "\n",
    "# list to store the data from each CSV file\n",
    "all_data = []\n",
    "\n",
    "# open and read the data from each CSV file\n",
    "with open('LaLigaPlayerStats.csv', 'r', encoding='utf-8') as f:\n",
    "    reader = csv.reader(f)\n",
    "    la_liga_data = list(reader)\n",
    "\n",
    "with open('BundesligaPlayerStats.csv', 'r', encoding='utf-8') as f:\n",
    "    reader = csv.reader(f)\n",
    "    bundesliga_data = list(reader)\n",
    "\n",
    "with open('Ligue1PlayerStats.csv', 'r', encoding='utf-8') as f:\n",
    "    reader = csv.reader(f)\n",
    "    ligue1_data = list(reader)\n",
    "    \n",
    "with open('PLPlayerStats.csv', 'r', encoding='utf-8') as f:\n",
    "    reader = csv.reader(f)\n",
    "    PL_data = list(reader)\n",
    "\n",
    "with open('SerieAPlayerStats.csv', 'r', encoding='utf-8') as f:\n",
    "    reader = csv.reader(f)\n",
    "    SerieA_data = list(reader)\n",
    "    \n",
    "# combine the data from each CSV file into a single list\n",
    "all_data = la_liga_data + bundesliga_data + ligue1_data + PL_data + SerieA_data\n",
    "\n",
    "# write the combined data to a new CSV file\n",
    "with open('Master_Player_Stats.csv', 'w', newline='', encoding='utf-8') as f:\n",
    "    writer = csv.writer(f)\n",
    "    writer.writerows(all_data)\n"
   ]
  },
  {
   "cell_type": "code",
   "execution_count": null,
   "id": "e2d1bb03",
   "metadata": {},
   "outputs": [],
   "source": []
  }
 ],
 "metadata": {
  "kernelspec": {
   "display_name": "Python 3",
   "language": "python",
   "name": "python3"
  },
  "language_info": {
   "codemirror_mode": {
    "name": "ipython",
    "version": 3
   },
   "file_extension": ".py",
   "mimetype": "text/x-python",
   "name": "python",
   "nbconvert_exporter": "python",
   "pygments_lexer": "ipython3",
   "version": "3.8.8"
  }
 },
 "nbformat": 4,
 "nbformat_minor": 5
}
